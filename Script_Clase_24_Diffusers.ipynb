{
  "nbformat": 4,
  "nbformat_minor": 0,
  "metadata": {
    "colab": {
      "provenance": [],
      "gpuType": "T4",
      "authorship_tag": "ABX9TyMKcTilZOdFF1uDJoDcO+T2",
      "include_colab_link": true
    },
    "kernelspec": {
      "name": "python3",
      "display_name": "Python 3"
    },
    "language_info": {
      "name": "python"
    },
    "accelerator": "GPU"
  },
  "cells": [
    {
      "cell_type": "markdown",
      "metadata": {
        "id": "view-in-github",
        "colab_type": "text"
      },
      "source": [
        "<a href=\"https://colab.research.google.com/github/CamiloVga/Curso-IA-Aplicada/blob/main/Script_Clase_24_Diffusers.ipynb\" target=\"_parent\"><img src=\"https://colab.research.google.com/assets/colab-badge.svg\" alt=\"Open In Colab\"/></a>"
      ]
    },
    {
      "cell_type": "markdown",
      "source": [
        "# 🎨 Inteligencia Artificial Aplicada para la Economía\n",
        "## Universidad de los Andes\n",
        "\n",
        "### 👨‍🏫 Profesores\n",
        "- **Profesor Magistral:** [Camilo Vega Barbosa](https://www.linkedin.com/in/camilovegabarbosa/)\n",
        "- **Asistente de Docencia:** [Sergio Julian Zona Moreno](https://www.linkedin.com/in/sergiozonamoreno/)\n",
        "\n",
        "### 📚 Implementación de Stable Diffusion XL para Generación de Imágenes\n",
        "Este script implementa un generador de imágenes basado en el modelo Stable Diffusion XL:\n",
        "\n",
        "1. **Configuración y Optimización del Modelo Diffusion 🚀**\n",
        "\n",
        "2. **Generación de Imágenes con Arquitectura Diffusion 🖼️**\n",
        "\n",
        "3. **Interfaz Gráfica con Gradio 🌈**\n",
        "\n"
      ],
      "metadata": {
        "id": "niTTEe0FNw5S"
      }
    },
    {
      "cell_type": "code",
      "execution_count": null,
      "metadata": {
        "id": "fXwUUtPSNU0o"
      },
      "outputs": [],
      "source": [
        "# Instalar bibliotecas necesarias\n",
        "!pip install diffusers transformers accelerate torch gradio -q\n",
        "\n",
        "\n",
        "# Importar bibliotecas\n",
        "import torch\n",
        "from diffusers import StableDiffusionXLPipeline\n",
        "import gradio as gr\n",
        "\n",
        "# Configurar dispositivo\n",
        "device = \"cuda\" if torch.cuda.is_available() else \"cpu\"\n",
        "print(f\"Usando dispositivo: {device}\")\n",
        "\n",
        "# Cargar modelo Stable Diffusion XL optimizado para memoria limitada\n",
        "pipe = StableDiffusionXLPipeline.from_pretrained(\n",
        "    \"stabilityai/stable-diffusion-xl-base-1.0\",\n",
        "    torch_dtype=torch.float16,            # Usar precisión de 16 bits para ahorrar memoria\n",
        "    variant=\"fp16\",                       # Usar variante de precisión media\n",
        "    use_safetensors=True                  # Usar formato safetensors\n",
        ")\n",
        "\n",
        "# Optimizar para GPU\n",
        "pipe = pipe.to(device)\n",
        "\n",
        "\n",
        "# Función para generar imágenes\n",
        "def generate_image(\n",
        "    prompt,\n",
        "    negative_prompt=\"low quality, blurry, distorted, deformed\",\n",
        "    num_steps=30,\n",
        "    guidance_scale=7.5,\n",
        "    seed=42\n",
        "):\n",
        "    # Configurar generador para reproducibilidad\n",
        "    if seed != -1:\n",
        "        generator = torch.Generator(device=device).manual_seed(seed)\n",
        "    else:\n",
        "        generator = None\n",
        "\n",
        "    # Generar imagen\n",
        "    image = pipe(\n",
        "        prompt=prompt,\n",
        "        negative_prompt=negative_prompt,\n",
        "        num_inference_steps=num_steps,\n",
        "        guidance_scale=guidance_scale,\n",
        "        generator=generator\n",
        "    ).images[0]\n",
        "\n",
        "    return image\n",
        "\n"
      ]
    },
    {
      "cell_type": "code",
      "source": [
        "# Crear la interfaz de Gradio\n",
        "with gr.Blocks(title=\"Generador de Imágenes con Stable Diffusion XL\") as demo:\n",
        "    gr.Markdown(\"\"\"\n",
        "    # 🎨 Generador de Imágenes con Stable Diffusion XL\n",
        "    Ingresa un prompt descriptivo para generar una imagen usando IA\n",
        "    \"\"\")\n",
        "\n",
        "    with gr.Row():\n",
        "        with gr.Column():\n",
        "            # Controles de entrada\n",
        "            prompt = gr.Textbox(label=\"Prompt\", placeholder=\"Describe la imagen que quieres generar...\")\n",
        "            negative_prompt = gr.Textbox(\n",
        "                label=\"Prompt Negativo\",\n",
        "                value=\"low quality, blurry, distorted, deformed\",\n",
        "                placeholder=\"Elementos que NO quieres en la imagen\"\n",
        "            )\n",
        "\n",
        "            with gr.Row():\n",
        "                steps = gr.Slider(minimum=10, maximum=50, value=30, step=1, label=\"Pasos de Inferencia\")\n",
        "                guidance = gr.Slider(minimum=1.0, maximum=15.0, value=7.5, step=0.1, label=\"Guidance Scale\")\n",
        "\n",
        "            seed = gr.Slider(minimum=-1, maximum=2147483647, value=42, step=1, label=\"Seed (-1 para aleatorio)\")\n",
        "\n",
        "            generate_btn = gr.Button(\"Generar Imagen\", variant=\"primary\")\n",
        "\n",
        "        # Salida: la imagen generada\n",
        "        image_output = gr.Image(label=\"Imagen Generada\")\n",
        "\n",
        "    # Ejemplos de prompts creativos\n",
        "    examples = gr.Examples(\n",
        "        examples=[\n",
        "            [\"Un paisaje futurista con rascacielos flotantes y vehículos voladores, estilo realista\"],\n",
        "            [\"Retrato de un economista del futuro, estilo digital art, detallado\"],\n",
        "            [\"Visualización de datos económicos en un entorno 3D abstracto, colores vibrantes\"],\n",
        "            [\"Una ciudad inteligente con tecnología integrada en la arquitectura, vista aérea, atardecer\"]\n",
        "        ],\n",
        "        inputs=prompt\n",
        "    )\n",
        "\n",
        "    # Configurar la acción del botón\n",
        "    generate_btn.click(\n",
        "        fn=generate_image,\n",
        "        inputs=[prompt, negative_prompt, steps, guidance, seed],\n",
        "        outputs=image_output\n",
        "    )\n",
        "\n",
        "# Lanzar la app\n",
        "demo.launch(share=True)  # share=True crea un enlace público"
      ],
      "metadata": {
        "id": "mhuInJ-yN612"
      },
      "execution_count": null,
      "outputs": []
    }
  ]
}