{
  "nbformat": 4,
  "nbformat_minor": 0,
  "metadata": {
    "colab": {
      "provenance": [],
      "gpuType": "T4",
      "authorship_tag": "ABX9TyN79Tf5uKdnLzQSY2FiMD9z",
      "include_colab_link": true
    },
    "kernelspec": {
      "name": "python3",
      "display_name": "Python 3"
    },
    "language_info": {
      "name": "python"
    },
    "accelerator": "GPU"
  },
  "cells": [
    {
      "cell_type": "markdown",
      "metadata": {
        "id": "view-in-github",
        "colab_type": "text"
      },
      "source": [
    "[![Open In Colab](https://colab.research.google.com/assets/colab-badge.svg)](https://colab.research.google.com/github/CamiloVga/Curso-IA-Aplicada/blob/main/Semana%2011_Arquitectura%20Transformers/Script_Clase_22_Transformers.ipynb)"
  ]
    },
    {
      "cell_type": "markdown",
      "source": [
        "# 🤖 Inteligencia Artificial Aplicada para la Economía\n",
        "## Universidad de los Andes\n",
        "\n",
        "### 👨‍🏫 Profesores\n",
        "- **Profesor Magistral:** [Camilo Vega Barbosa](https://www.linkedin.com/in/camilovegabarbosa/)\n",
        "- **Asistente de Docencia:** [Sergio Julian Zona Moreno](https://www.linkedin.com/in/sergiozonamoreno/)\n",
        "\n",
        "### 📚 Implementación de Transformers con Llama-2\n",
        "Este script implementa un chatbot basado en la arquitectura Transformer utilizando el modelo Llama-2-7b de Meta:\n",
        "\n",
        "1. **Configuración y Optimización del Modelo Transformer 🚀**\n",
        "   * Carga optimizada de Llama-2-7b con quantización de 8-bit\n",
        "   * Configuración de precisión de 16 bits para eficiencia en GPU\n",
        "   * Distribución automática del modelo para optimizar recursos\n",
        "   * Preparación del modelo para ejecución en GPUs de Colab\n",
        "\n",
        "2. **Generación de Texto con Arquitectura Transformer 🧠**\n",
        "   * Tokenización y procesamiento de entradas de texto\n",
        "   * Configuración de parámetros de sampling probabilístico\n",
        "   * Generación controlada mediante temperature y top_p\n",
        "   * Decodificación eficiente de tokens a texto natural\n",
        "\n",
        "3. **Interfaz Conversacional con Gradio 💬**\n",
        "   * Implementación de interfaz de usuario intuitiva\n",
        "   * Manejo de contexto y formato específico para Llama-2\n",
        "   * Ejemplos predefinidos sobre conceptos de Transformers\n",
        "   * Diseño responsivo para facilitar la experimentación\n"
      ],
      "metadata": {
        "id": "eBXTlQg_POyT"
      }
    },
    {
      "cell_type": "code",
      "source": [
        "# Instalar bibliotecas necesarias\n",
        "!pip install transformers torch accelerate bitsandbytes gradio -q\n",
        "\n",
        "# Importar bibliotecas\n",
        "from transformers import AutoTokenizer, AutoModelForCausalLM\n",
        "import torch\n",
        "\n",
        "# Cargar tokenizador\n",
        "tokenizer = AutoTokenizer.from_pretrained(\"meta-llama/Llama-2-7b-hf\")\n",
        "\n",
        "# Cargar modelo con optimizaciones para T4\n",
        "model = AutoModelForCausalLM.from_pretrained(\n",
        "    \"meta-llama/Llama-2-7b-hf\",\n",
        "    device_map=\"auto\",           # Distribuye el modelo automáticamente\n",
        "    torch_dtype=torch.float16,   # Usa precisión de 16 bits\n",
        "    load_in_8bit=True            # Carga el modelo con cuantización de 8 bits\n",
        ")\n",
        "\n",
        "# Generar texto\n",
        "prompt = \"Explica de manera simple qué es un transformer en inteligencia artificial:\"\n",
        "inputs = tokenizer(prompt, return_tensors=\"pt\").to(\"cuda\")  # Mover a GPU\n",
        "outputs = model.generate(\n",
        "    inputs.input_ids,\n",
        "    max_new_tokens=200,\n",
        "    do_sample=True,\n",
        "    temperature=0.7\n",
        ")\n",
        "response = tokenizer.decode(outputs[0], skip_special_tokens=True)\n",
        "print(response)"
      ],
      "metadata": {
        "id": "o5ZBq7-oKEil"
      },
      "execution_count": null,
      "outputs": []
    },
    {
      "cell_type": "code",
      "source": [
        "\n",
        "# Importar bibliotecas\n",
        "import gradio as gr\n",
        "\n",
        "\n",
        "# Historial del chat para mantener la conversación\n",
        "conversation_history = []\n",
        "\n",
        "# Función para generar respuestas\n",
        "def generate_response(message, history):\n",
        "    # Construir el contexto del chat con formato para Llama-2\n",
        "    prompt = \"\"\n",
        "    for user_msg, bot_msg in history:\n",
        "        prompt += f\"<s>[INST] {user_msg} [/INST] {bot_msg}</s>\"\n",
        "\n",
        "    # Añadir el mensaje actual\n",
        "    prompt += f\"<s>[INST] {message} [/INST]\"\n",
        "\n",
        "    # Generar respuesta\n",
        "    inputs = tokenizer(prompt, return_tensors=\"pt\").to(model.device)\n",
        "    outputs = model.generate(\n",
        "        inputs.input_ids,\n",
        "        max_new_tokens=512,\n",
        "        do_sample=True,\n",
        "        temperature=0.7,\n",
        "        top_p=0.9,\n",
        "    )\n",
        "\n",
        "    # Decodificar la respuesta\n",
        "    response = tokenizer.decode(outputs[0][inputs.input_ids.shape[1]:], skip_special_tokens=True)\n",
        "\n",
        "    return response\n",
        "\n",
        "# Crear la interfaz de Gradio\n",
        "demo = gr.ChatInterface(\n",
        "    fn=generate_response,\n",
        "    title=\"Chat con Llama-2-7b\",\n",
        "    description=\"Un chatbot simple usando el modelo Llama-2-7b. Haz una pregunta para empezar.\",\n",
        "    examples=[\"¿Qué es un transformer en IA?\", \"Explica el concepto de atención en NLP\", \"¿Cómo funciona GPT?\"],\n",
        "    theme=\"soft\"\n",
        ")\n",
        "\n",
        "# Lanzar la app\n",
        "demo.launch(share=True)  # share=True crea un enlace público"
      ],
      "metadata": {
        "id": "QIVeQk-hMXR5"
      },
      "execution_count": null,
      "outputs": []
    },
    {
      "cell_type": "code",
      "source": [],
      "metadata": {
        "id": "ogztraLoeP2J"
      },
      "execution_count": null,
      "outputs": []
    }
  ]
}
