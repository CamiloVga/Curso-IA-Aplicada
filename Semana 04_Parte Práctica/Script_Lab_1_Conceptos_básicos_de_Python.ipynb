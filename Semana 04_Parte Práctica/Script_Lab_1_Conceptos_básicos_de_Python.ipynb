{
  "cells": [
    {
      "cell_type": "markdown",
      "metadata": {},
      "source": [
        "[![Open In Colab](https://colab.research.google.com/assets/colab-badge.svg)](https://colab.research.google.com/github/CamiloVga/Curso-IA-Aplicada/blob/main/Semana%201_Intro%20a%20la%20IA/Script_Lab_1_Conceptos_b%C3%A1sicos_de_Python.ipynb)"
      ]
    },
    {
      "cell_type": "markdown",
      "metadata": {
        "id": "cWOcKk0zBZWi"
      },
      "source": [
        "# 🤖 Inteligencia Artificial Aplicada para la Economía\n",
        "## Universidad de los Andes\n",
        "\n",
        "### 👨‍🏫 Profesores\n",
        "- **Profesor Magistral:** [Camilo Vega Barbosa](https://www.linkedin.com/in/camilo-vega-169084b1/)\n",
        "- **Asistente de Docencia:** [Sergio Julian Zona Moreno](https://www.linkedin.com/in/sergio-julian-zona-moreno/)\n",
        "\n",
        "## 📊 Introducción a Python\n",
        "\n",
        "Este cuadernillo está diseñado como una introducción básica a Python y su aplicación en la programación, dirigido especialmente a estudiantes interesados en inteligencia artificial y economía. Proporciona una base sólida en los conceptos fundamentales de Python, incluyendo variables, ciclos, booleanos y funciones, así como una visión general del concepto de complejidad algorítmica. A través de ejemplos prácticos y explicaciones claras, este cuadernillo busca facilitar el aprendizaje de las herramientas necesarias para el análisis de datos y el desarrollo de modelos predictivos en un contexto económico.\n",
        "\n",
        "### 🎯 Objetivos\n",
        "\n",
        "1. **Entender los conceptos básicos de Python**: Aprender a usar variables, tipos de datos, ciclos, condicionales, booleanos y funciones.\n",
        "2. **Aplicar estructuras de control**: Desarrollar habilidades para implementar ciclos y estructuras condicionales en la solución de problemas.\n",
        "3. **Explorar estructuras de datos**: Conocer las principales estructuras de datos en Python y sus aplicaciones prácticas.\n",
        "4. **Introducir el concepto de complejidad algorítmica**: Comprender cómo la eficiencia de un algoritmo afecta el rendimiento del código.\n",
        "5. **Familiarizarse con librerías comunes**: Usar herramientas clave como `numpy`, `matplotlib` y `pandas` para manejar datos y visualizar resultados.\n",
        "6. **Prepararse para aplicaciones avanzadas**: Sentar las bases para el aprendizaje de técnicas más complejas como machine learning.\n",
        "\n",
        "### 🛠️ Requisitos de Software\n",
        "\n",
        "- **Python**: Versión 3.8 o superior.\n",
        "- **Editor recomendado**: Jupyter Notebook, Google Colab o cualquier IDE que soporte cuadernillos de Python.\n",
        "- **Bibliotecas necesarias**: `numpy`, `matplotlib`, `pandas`.\n",
        "\n",
        "### 💻 Requisitos Técnicos\n",
        "\n",
        "- **Entorno de Ejecución**:\n",
        "  - CPU básica suficiente, ya que se usarán conceptos introductorios.\n",
        "- **Memoria RAM**: 2 GB mínimo (la mayoría de las máquinas actuales cumplen este requisito).\n",
        "- **Espacio en Disco**: ~500 MB para instalar Python y bibliotecas necesarias.\n",
        "\n",
        "### 📝 Temas del Cuadernillo\n",
        "\n",
        "1. **Introducción a Python**:\n",
        "   - Variables y tipos de datos.\n",
        "   - Operadores básicos.\n",
        "   - **Casting de Variables**: Convertir entre tipos de datos como `int()`, `str()`, `float()`.\n",
        "\n",
        "2. **Condicionales y Booleanos**:\n",
        "   - **Condicionales**: (`if`, `else`, `elif`).\n",
        "   - **Booleanos y Lógica**:\n",
        "     - Operadores lógicos (`and`, `or`, `not`).\n",
        "     - Expresiones booleanas.\n",
        "\n",
        "3. **Funciones**:\n",
        "   - Definición y uso de funciones.\n",
        "   - Parámetros y retorno de valores.\n",
        "\n",
        "4. **Estructuras de Datos**:\n",
        "   - **Listas**: Creación, acceso y manipulación (CRUD).\n",
        "   - **Tuplas**: Uso y diferencia frente a listas.\n",
        "   - **Diccionarios**: Almacenamiento y acceso a datos clave-valor.\n",
        "   - **Conjuntos (sets)**: Concepto y operaciones.\n",
        "\n",
        "5. **Ciclos y Complejidad**:\n",
        "   - **Ciclos**: (`for`, `while`).\n",
        "   - **Complejidad Algorítmica**:\n",
        "     - Introducción al análisis de algoritmos.\n",
        "     - Conceptos de tiempo y espacio computacional.\n",
        "\n",
        "6. **Librerías**:\n",
        "   - **`numpy`**: Para cálculos numéricos eficientes.\n",
        "   - **`pandas`**: Manejo y análisis de datos estructurados.\n",
        "   - **`matplotlib`**: Visualización de datos.\n",
        "\n",
        "### 📚 Recursos de Apoyo\n",
        "\n",
        "1. **Documentación oficial de Python**: [https://docs.python.org/3/](https://docs.python.org/3/)\n",
        "2. **Google Colab**: [https://colab.research.google.com/](https://colab.research.google.com/)\n",
        "3. **PyReadiness:** [https://pyreadiness.org/3.12/](https://pyreadiness.org/3.12/)\n",
        "4. **Python Index Package:** [https://pypi.org/](https://pypi.org/)"
      ]
    },
    {
      "cell_type": "markdown",
      "metadata": {
        "id": "3_a7kwEz1U9A"
      },
      "source": [
        "## 1. Introducción a Python:"
      ]
    },
    {
      "cell_type": "markdown",
      "metadata": {},
      "source": [
        "### **¿Qué es Python?**\n",
        "\n",
        "Python (1991) es un lenguaje de **alto nivel** de programación **interpretado** cuya filosofía hace hincapié en la legibilidad de su código, se utiliza para desarrollar aplicaciones de todo tipo, por ejemplo: Instagram, Netflix, Spotify, Panda3D, entre otros. Se trata de un lenguaje de programación **multiparadigma**, ya que soporta parcialmente la **orientación a objetos**, programación **imperativa** y, en menor medida, **programación funcional**. Es un lenguaje **interpretado**, dinámico (**dinámicamente tipado**) y **multiplataforma**. [Wikipedia](https://es.wikipedia.org/wiki/Python)."
      ]
    },
    {
      "cell_type": "code",
      "execution_count": 36,
      "metadata": {},
      "outputs": [
        {
          "name": "stdout",
          "output_type": "stream",
          "text": [
            "Python 3.11.4\n"
          ]
        }
      ],
      "source": [
        "!python --version"
      ]
    },
    {
      "cell_type": "markdown",
      "metadata": {},
      "source": [
        "### **Conceptos básicos**\n",
        "\n",
        "**¿Qué es una variable?**\n",
        "\n",
        "Una variable es un lugar donde almacenaremos información, ¿qué información? Depende del tipo de datos que la variable contenga. Las variables nos permiten guardar datos en la memoria del programa para utilizarlos o procesarlos posteriormente.\n",
        "\n",
        "**Tipos de datos de variables:**\n",
        "\n",
        "Para efectos prácticos, podemos simplificar los tipos de datos en:\n",
        "- **String**: Representa texto (por ejemplo, `\"Hola, mundo!\"`).\n",
        "- **Int/Float**: Representa números enteros y decimales, respetivamente (por ejemplo, `42`).\n",
        "- **Boolean**: Representa valores verdaderos o falsos (por ejemplo, `True` o `False`)."
      ]
    },
    {
      "cell_type": "code",
      "execution_count": 1,
      "metadata": {
        "id": "VoSrXWJ41XhE"
      },
      "outputs": [],
      "source": [
        "# Declaración de variables\n",
        "a = \"Hola esto es una variable\"\n",
        "b = 3\n",
        "c = True # False\n",
        "d = None"
      ]
    },
    {
      "cell_type": "code",
      "execution_count": 2,
      "metadata": {
        "colab": {
          "base_uri": "https://localhost:8080/"
        },
        "id": "JgDRLQqV2Fu2",
        "outputId": "07a572c7-248f-452a-f2b7-21baa7edfa25"
      },
      "outputs": [
        {
          "data": {
            "text/plain": [
              "str"
            ]
          },
          "execution_count": 2,
          "metadata": {},
          "output_type": "execute_result"
        }
      ],
      "source": [
        "# Para verificar el tipo de una variable podemos utilizar el comando type()\n",
        "type(a)"
      ]
    },
    {
      "cell_type": "code",
      "execution_count": 3,
      "metadata": {
        "colab": {
          "base_uri": "https://localhost:8080/"
        },
        "id": "uJSYckqu2NTx",
        "outputId": "e8f93c83-13ec-41be-fa35-2c485203764a"
      },
      "outputs": [
        {
          "data": {
            "text/plain": [
              "int"
            ]
          },
          "execution_count": 3,
          "metadata": {},
          "output_type": "execute_result"
        }
      ],
      "source": [
        "type(b)"
      ]
    },
    {
      "cell_type": "code",
      "execution_count": 4,
      "metadata": {
        "colab": {
          "base_uri": "https://localhost:8080/"
        },
        "id": "C2rzwJAH2PCy",
        "outputId": "5c5cd458-a623-4cba-9afb-bdb2c2dc5594"
      },
      "outputs": [
        {
          "data": {
            "text/plain": [
              "bool"
            ]
          },
          "execution_count": 4,
          "metadata": {},
          "output_type": "execute_result"
        }
      ],
      "source": [
        "type(c)"
      ]
    },
    {
      "cell_type": "code",
      "execution_count": 5,
      "metadata": {},
      "outputs": [
        {
          "data": {
            "text/plain": [
              "NoneType"
            ]
          },
          "execution_count": 5,
          "metadata": {},
          "output_type": "execute_result"
        }
      ],
      "source": [
        "type(None)"
      ]
    },
    {
      "cell_type": "markdown",
      "metadata": {
        "id": "jd_zLZ332QfP"
      },
      "source": [
        "En Python me interesa constantemente conocer los valores de una variable. Para ello puedo utilizar la función print() propia de Python."
      ]
    },
    {
      "cell_type": "code",
      "execution_count": 6,
      "metadata": {
        "colab": {
          "base_uri": "https://localhost:8080/"
        },
        "id": "aoUs4xWD2VEr",
        "outputId": "0e2337dd-a2bb-4941-9f36-71b1f892bb74"
      },
      "outputs": [
        {
          "name": "stdout",
          "output_type": "stream",
          "text": [
            "Hola esto es una variable\n",
            "3\n",
            "True\n"
          ]
        }
      ],
      "source": [
        "print(a)\n",
        "print(b)\n",
        "print(c)"
      ]
    },
    {
      "cell_type": "code",
      "execution_count": 7,
      "metadata": {
        "colab": {
          "base_uri": "https://localhost:8080/"
        },
        "id": "aQ_U1AE6oovA",
        "outputId": "83fe41ed-b6fd-4107-8c61-7b69935ea1b1"
      },
      "outputs": [
        {
          "data": {
            "text/plain": [
              "4"
            ]
          },
          "execution_count": 7,
          "metadata": {},
          "output_type": "execute_result"
        }
      ],
      "source": [
        "# Python funciona como una consola, todo lo que le ingresemos lo interpreta y ejecuta.\n",
        "2+2"
      ]
    },
    {
      "cell_type": "markdown",
      "metadata": {
        "id": "JEONimdq2f0L"
      },
      "source": [
        "### **Casting de variables:**\n",
        "\n",
        "Normalmente quiero cambiar el tipo de una variable a otro tipo. ¿Por qué? Porque ciertas funciones de Python solo reciben algunos tipos específicos de datos (sean numéricos, texto, etc.)"
      ]
    },
    {
      "cell_type": "code",
      "execution_count": 8,
      "metadata": {
        "colab": {
          "base_uri": "https://localhost:8080/"
        },
        "id": "Rm8N-X48JHcM",
        "outputId": "c65b57b6-9b45-4cb1-ada0-410cf3d6fa0e"
      },
      "outputs": [
        {
          "name": "stdout",
          "output_type": "stream",
          "text": [
            "<class 'int'>\n",
            "<class 'str'>\n"
          ]
        }
      ],
      "source": [
        "# Convertir un número a texto\n",
        "numero = 5\n",
        "print(type(numero))\n",
        "numero_a_texto = str(numero)\n",
        "print(type(numero_a_texto))"
      ]
    },
    {
      "cell_type": "code",
      "execution_count": 9,
      "metadata": {
        "colab": {
          "base_uri": "https://localhost:8080/"
        },
        "id": "kq5sdOI72sWI",
        "outputId": "03fad42d-5961-4018-d2e8-bf350531458a"
      },
      "outputs": [
        {
          "name": "stdout",
          "output_type": "stream",
          "text": [
            "<class 'str'>\n",
            "<class 'int'>\n"
          ]
        }
      ],
      "source": [
        "# Convertir un texto a número\n",
        "texto = \"5\"\n",
        "print(type(texto))\n",
        "texto_a_numero = int(texto)\n",
        "print(type(texto_a_numero))"
      ]
    },
    {
      "cell_type": "code",
      "execution_count": 10,
      "metadata": {
        "colab": {
          "base_uri": "https://localhost:8080/"
        },
        "id": "cxfiz-G63ibS",
        "outputId": "0ac7e266-c1f5-459c-e5b1-e19643810fb5"
      },
      "outputs": [
        {
          "name": "stdout",
          "output_type": "stream",
          "text": [
            "<class 'int'>\n",
            "<class 'bool'>\n"
          ]
        },
        {
          "data": {
            "text/plain": [
              "True"
            ]
          },
          "execution_count": 10,
          "metadata": {},
          "output_type": "execute_result"
        }
      ],
      "source": [
        "# Convertir número a booleano\n",
        "numero = 1\n",
        "print(type(numero))\n",
        "numero_a_booleano = bool(numero)\n",
        "print(type(numero_a_booleano))\n",
        "numero_a_booleano"
      ]
    },
    {
      "cell_type": "markdown",
      "metadata": {
        "id": "v93j1DTH2wsj"
      },
      "source": [
        "### **Operadores básicos:**\n",
        "\n",
        "En Python me interesa hacer operaciones con números. Aquí están las más comúnes."
      ]
    },
    {
      "cell_type": "code",
      "execution_count": 11,
      "metadata": {
        "id": "y0OVVety229_"
      },
      "outputs": [],
      "source": [
        "a = 5\n",
        "b = 3"
      ]
    },
    {
      "cell_type": "code",
      "execution_count": 12,
      "metadata": {
        "colab": {
          "base_uri": "https://localhost:8080/"
        },
        "id": "dV6Un1SeB5cU",
        "outputId": "136e465a-b1de-41aa-cd63-318ac914532d"
      },
      "outputs": [
        {
          "name": "stdout",
          "output_type": "stream",
          "text": [
            "Suma: 8\n",
            "Resta: 2\n",
            "Multiplicacion: 15\n",
            "Division: 1.6666666666666667\n",
            "Division (entera): 1\n",
            "Potencia: 125\n",
            "Modulo: 2\n"
          ]
        }
      ],
      "source": [
        "# Operaciones\n",
        "# Suma\n",
        "print(\"Suma: \" + str(a+b))\n",
        "\n",
        "# Resta\n",
        "print(\"Resta: \" + str(a-b))\n",
        "\n",
        "# Multiplicacion\n",
        "print(\"Multiplicacion: \" + str(a*b))\n",
        "\n",
        "# Division\n",
        "print(\"Division: \" + str(a/b)) # Division decimal\n",
        "print(\"Division (entera): \"+ str(a//b)) # Division parte entera\n",
        "\n",
        "# Potencias\n",
        "print(\"Potencia: \"+ str(a**b))\n",
        "\n",
        "# Modulo\n",
        "print(\"Modulo: \" + str(a%b))"
      ]
    },
    {
      "cell_type": "markdown",
      "metadata": {
        "id": "LKo3giOO8Yeq"
      },
      "source": [
        "## 2. Condicionales y Booleanos:"
      ]
    },
    {
      "cell_type": "markdown",
      "metadata": {},
      "source": [
        "### **Operadores Booleanos en Python**\n",
        "\n",
        "Los operadores booleanos nos permiten trabajar con valores lógicos (`True` o `False`) para realizar comparaciones o condiciones. Estos son algunos operadores comunes:\n",
        "\n",
        "- **AND (`and`)**: Devuelve `True` si ambas condiciones son verdaderas.\n",
        "- **OR (`or`)**: Devuelve `True` si al menos una de las condiciones es verdadera.\n",
        "- **NOT (`not`)**: Invierte el valor lógico, convirtiendo `True` en `False` y viceversa."
      ]
    },
    {
      "cell_type": "markdown",
      "metadata": {},
      "source": [
        "💡 **Dato curioso**: Estos operadores se basan en el álgebra booleana, desarrollada por el matemático inglés [George Boole en 1847](https://es.wikipedia.org/wiki/Álgebra_de_Boole)."
      ]
    },
    {
      "cell_type": "markdown",
      "metadata": {},
      "source": [
        "Recordemos las **tablas de verdad**.\n",
        "\n",
        "![Tablas de verdad](../assets/Script_Lab_1//tablas_de_verdad.jpg)\n",
        "\n",
        "Imagen de referencia: [Platzi](https://platzi.com/home/clases/3221-pensamiento-logico/50677-operadores-logicos/)"
      ]
    },
    {
      "cell_type": "code",
      "execution_count": 13,
      "metadata": {
        "colab": {
          "base_uri": "https://localhost:8080/"
        },
        "id": "Bns9M5TWeAt8",
        "outputId": "68eef465-239a-48e0-ba56-87717af236dd"
      },
      "outputs": [
        {
          "name": "stdout",
          "output_type": "stream",
          "text": [
            "AND Operation: False\n",
            "OR Operation: True\n",
            "NOT Operation: False\n"
          ]
        }
      ],
      "source": [
        "# Operadores booleanos\n",
        "a = True\n",
        "b = False\n",
        "\n",
        "and_operation = a and b\n",
        "or_operation = a or b\n",
        "not_operation = not a\n",
        "\n",
        "print(\"AND Operation:\", and_operation)\n",
        "print(\"OR Operation:\", or_operation)\n",
        "print(\"NOT Operation:\", not_operation)"
      ]
    },
    {
      "cell_type": "markdown",
      "metadata": {},
      "source": [
        "### **Operadores Relacionales en Python**\n",
        "\n",
        "Los operadores relacionales, también conocidos como operadores de comparación, se utilizan para evaluar la relación entre dos valores. El resultado de estas comparaciones es un valor booleano: `True` si la relación es verdadera, o `False` si es falsa.\n",
        "\n",
        "**Principales Operadores Relacionales:**\n",
        "\n",
        "- **Igual que (`==`)**: Verifica si dos valores son iguales.\n",
        "- **Distinto de (`!=`)**: Verifica si dos valores son diferentes.\n",
        "- **Mayor que (`>`)**: Verifica si el valor de la izquierda es mayor que el de la derecha.\n",
        "- **Menor que (`<`)**: Verifica si el valor de la izquierda es menor que el de la derecha.\n",
        "- **Mayor o igual que (`>=`)**: Verifica si el valor de la izquierda es mayor o igual que el de la derecha.\n",
        "- **Menor o igual que (`<=`)**: Verifica si el valor de la izquierda es menor o igual que el de la derecha.\n"
      ]
    },
    {
      "cell_type": "code",
      "execution_count": 14,
      "metadata": {},
      "outputs": [
        {
          "name": "stdout",
          "output_type": "stream",
          "text": [
            "a == b: False\n",
            "a != b: True\n",
            "a > b: True\n",
            "a < b: False\n",
            "a >= b: True\n",
            "a <= b: False\n"
          ]
        }
      ],
      "source": [
        "# Definimos dos variables\n",
        "a = 10\n",
        "b = 5\n",
        "\n",
        "# Igual que\n",
        "print(\"a == b:\", a == b)  # False\n",
        "\n",
        "# Diferente de\n",
        "print(\"a != b:\", a != b)  # True\n",
        "\n",
        "# Mayor que\n",
        "print(\"a > b:\", a > b)    # True\n",
        "\n",
        "# Menor que\n",
        "print(\"a < b:\", a < b)    # False\n",
        "\n",
        "# Mayor o igual que\n",
        "print(\"a >= b:\", a >= b)  # True\n",
        "\n",
        "# Menor o igual que\n",
        "print(\"a <= b:\", a <= b)  # False"
      ]
    },
    {
      "cell_type": "code",
      "execution_count": 16,
      "metadata": {},
      "outputs": [
        {
          "name": "stdout",
          "output_type": "stream",
          "text": [
            "cadena1 == cadena2: False\n",
            "cadena1 != cadena2: True\n",
            "lista1 == lista2: True\n",
            "lista1 != lista2: False\n"
          ]
        }
      ],
      "source": [
        "# Comparación de cadenas\n",
        "cadena1 = \"Hola\"\n",
        "cadena2 = \"Adiós\"\n",
        "print(\"cadena1 == cadena2:\", cadena1 == cadena2)  # False\n",
        "print(\"cadena1 != cadena2:\", cadena1 != cadena2)  # True\n",
        "\n",
        "# Comparación de listas - Más abajo en el cuadernillo se explican las listas\n",
        "lista1 = [1, 2, 3]\n",
        "lista2 = [1, 2, 3]\n",
        "print(\"lista1 == lista2:\", lista1 == lista2)  # True\n",
        "print(\"lista1 != lista2:\", lista1 != lista2)  # False"
      ]
    },
    {
      "cell_type": "markdown",
      "metadata": {},
      "source": [
        "### **Sentencias Condicionales en Python**\n",
        "\n",
        "En programación, las **sentencias condicionales** permiten que un programa tome decisiones basadas en ciertas condiciones, ejecutando diferentes bloques de código según si estas condiciones se evalúan como verdaderas (`True`) o falsas (`False`). En Python, las principales sentencias condicionales son `if`, `elif` y `else`.\n",
        "\n",
        "**1. Sentencia `if`**\n",
        "La sentencia `if` evalúa una condición. Si la condición es verdadera (`True`), se ejecuta el bloque de código asociado.\n",
        "\n",
        "\n",
        "**2. Sentencia `else`**\n",
        "La sentencia else define un bloque de código que se ejecutará si la condición evaluada en el if es falsa (`False`). Siempre debe ir acompañada de un if.\n",
        "\n",
        "**3. Sentencia `else`**\n",
        "La sentencia elif, abreviatura de `else if`, se utiliza para verificar múltiples condiciones. Si la condición del if es falsa, se evalúan las condiciones del elif en orden. Se puede usar tantas veces como sea necesario."
      ]
    },
    {
      "cell_type": "markdown",
      "metadata": {},
      "source": [
        "¡Les presentamos a Pingüi!\n",
        "\n",
        "<img src=\"../assets/Script_Lab_1/ping.jpeg\" alt=\"Ping\" width=20%>"
      ]
    },
    {
      "cell_type": "code",
      "execution_count": 17,
      "metadata": {
        "colab": {
          "base_uri": "https://localhost:8080/"
        },
        "id": "vV1v0w93McAw",
        "outputId": "8fb146db-8ca2-4ae6-a41f-bee2030cf652"
      },
      "outputs": [
        {
          "name": "stdout",
          "output_type": "stream",
          "text": [
            "¡Pingüi se pasó de copas y se puso a conducir! 🚗🥑\n",
            "No es mayor de edad y no tiene licencia, lo llevan a la cárcel y llaman a sus padres. 🚔📞\n"
          ]
        }
      ],
      "source": [
        "# Definimos las variables para la historia de Pingüi\n",
        "ping_se_paso_de_copas = True\n",
        "ping_es_mayor_de_edad = False  # No es mayor de edad\n",
        "ping_tiene_licencia = False  # No tiene licencia de conducir\n",
        "\n",
        "# Condicional para determinar qué sucede con Pingüi\n",
        "if ping_se_paso_de_copas:\n",
        "    if ping_es_mayor_de_edad and ping_tiene_licencia:\n",
        "        print(\"¡Pingüi se pasó de copas y se puso a conducir! 🚗🥑\")\n",
        "        print(\"Es mayor de edad y tiene licencia, así que lo llevan a la cárcel y le quitan la licencia. 🚔🚫\")\n",
        "    elif ping_es_mayor_de_edad and not ping_tiene_licencia:\n",
        "        print(\"¡Pingüi se pasó de copas y se puso a conducir! 🚗🥑\")\n",
        "        print(\"Es mayor de edad pero no tiene licencia, lo llevan a la cárcel. 🚔\")\n",
        "    elif not ping_es_mayor_de_edad and ping_tiene_licencia:\n",
        "        print(\"¡Pingüi se pasó de copas y se puso a conducir! 🚗🥑\")\n",
        "        print(\"No es mayor de edad pero tiene licencia, le quitan la licencia y llaman a sus padres. 🚫📞\")\n",
        "    else:\n",
        "        print(\"¡Pingüi se pasó de copas y se puso a conducir! 🚗🥑\")\n",
        "        print(\"No es mayor de edad y no tiene licencia, lo llevan a la cárcel y llaman a sus padres. 🚔📞\")\n",
        "else:\n",
        "    print(\"Pingüi es responsable y no se pasó de copas. ¡Está a salvo! 🥑👍\")\n",
        "\n",
        "# Moraleja: sean responsables. No sean como Pingüi."
      ]
    },
    {
      "cell_type": "markdown",
      "metadata": {
        "id": "jjjJpBGPCD4a"
      },
      "source": [
        "## 3. Funciones"
      ]
    },
    {
      "cell_type": "markdown",
      "metadata": {
        "id": "hFJTz-h8DCS-"
      },
      "source": [
        "### **¿Qué es una función?**\n",
        "\n",
        "En Python, una **función** es un bloque de código reutilizable que realiza una tarea específica. Las funciones permiten organizar el código, hacerlo más legible y reducir la repetición de instrucciones al ejecutar tareas similares.\n",
        "\n",
        "### **¿Por qué usar funciones?**\n",
        "\n",
        "1. **Reutilización de código**: Puedes llamar una función varias veces en diferentes partes del programa.\n",
        "2. **Legibilidad**: Facilitan entender el propósito de diferentes secciones del código.\n",
        "3. **Modularidad**: Dividen un programa en partes más manejables y fáciles de depurar.\n",
        "\n",
        "### **Definición de una Función**\n",
        "\n",
        "Para definir una función en Python, se utiliza la palabra clave `def`, seguida del nombre de la función y paréntesis. Dentro de los paréntesis puedes especificar **parámetros** si la función necesita recibir datos."
      ]
    },
    {
      "cell_type": "code",
      "execution_count": 18,
      "metadata": {
        "colab": {
          "base_uri": "https://localhost:8080/"
        },
        "id": "SLo6hWq3gH30",
        "outputId": "e2205fd2-62d3-47c5-ad39-ba61dbc94ba8"
      },
      "outputs": [
        {
          "data": {
            "text/plain": [
              "9"
            ]
          },
          "execution_count": 18,
          "metadata": {},
          "output_type": "execute_result"
        }
      ],
      "source": [
        "# Función que tiene salida\n",
        "def sumar_dos_numeros_salida(x, y):\n",
        "  # Salida\n",
        "  return x+y\n",
        "\n",
        "sumar_dos_numeros_salida(13,-4)"
      ]
    },
    {
      "cell_type": "code",
      "execution_count": 19,
      "metadata": {
        "colab": {
          "base_uri": "https://localhost:8080/"
        },
        "id": "6eZ44NeEDYfT",
        "outputId": "1b214adf-6b4c-4475-a710-bf88c08f5894"
      },
      "outputs": [
        {
          "name": "stdout",
          "output_type": "stream",
          "text": [
            "None\n"
          ]
        }
      ],
      "source": [
        "# Función sin salida\n",
        "def sumar_dos_numeros(x, y):\n",
        "  # Sin salida\n",
        "  suma = x+y\n",
        "\n",
        "a = sumar_dos_numeros(13,-4)\n",
        "print(a)"
      ]
    },
    {
      "cell_type": "code",
      "execution_count": 20,
      "metadata": {},
      "outputs": [
        {
          "name": "stdout",
          "output_type": "stream",
          "text": [
            "9\n"
          ]
        }
      ],
      "source": [
        "# Función tipada con retorno\n",
        "def sumar_dos_numeros_tipada(x: int, y: int) -> int:\n",
        "    return x + y  \n",
        "\n",
        "a = sumar_dos_numeros_tipada(13, -4)\n",
        "print(a) "
      ]
    },
    {
      "cell_type": "code",
      "execution_count": null,
      "metadata": {},
      "outputs": [],
      "source": [
        "# Función tipada con retorno\n",
        "def sumar_dos_numeros_tipada(x: int, y: int) -> int:\n",
        "    return x + y  \n",
        "\n",
        "a = sumar_dos_numeros_tipada(\"13\", -4) # Dará error del tipo - TypeError: can only concatenate str (not \"int\") to str\n",
        "print(a) "
      ]
    },
    {
      "cell_type": "code",
      "execution_count": 22,
      "metadata": {
        "colab": {
          "base_uri": "https://localhost:8080/",
          "height": 35
        },
        "id": "BOU2KLAchQvY",
        "outputId": "efbab776-7e02-4115-c867-b7626b6d06ad"
      },
      "outputs": [
        {
          "name": "stdout",
          "output_type": "stream",
          "text": [
            "Excedente: la oferta es mayor que la demanda. Baja el precio para ajustar. Precio actual: 100\n"
          ]
        }
      ],
      "source": [
        "# Función: Determinar el equilibrio en un mercado básico de oferta y demanda\n",
        "def equilibrio_mercado(precio, oferta, demanda):\n",
        "    \"\"\"\n",
        "    Determina el estado del mercado según la oferta y la demanda.\n",
        "    \n",
        "    Parámetros:\n",
        "    - precio (float): Precio actual del bien.\n",
        "    - oferta (int): Cantidad ofrecida en el mercado.\n",
        "    - demanda (int): Cantidad demandada en el mercado.\n",
        "    \n",
        "    Retorno:\n",
        "    - str: Mensaje sobre el estado del mercado.\n",
        "    \"\"\"\n",
        "    \n",
        "    excedente = \"Excedente: la oferta es mayor que la demanda.\"\n",
        "    escasez = \"Escasez: la demanda es mayor que la oferta.\"\n",
        "    equilibrio = \"Equilibrio: la oferta y la demanda están balanceadas.\"\n",
        "    \n",
        "    if oferta > demanda:\n",
        "        return f\"{excedente} Baja el precio para ajustar. Precio actual: {precio}\"\n",
        "    elif oferta < demanda:\n",
        "        return f\"{escasez} Sube el precio para ajustar. Precio actual: {precio}\"\n",
        "    else:\n",
        "        return f\"{equilibrio} Precio de equilibrio: {precio}\"\n",
        "\n",
        "# Probamos la función\n",
        "precio_actual = 100\n",
        "oferta_actual = 120\n",
        "demanda_actual = 100\n",
        "\n",
        "estado_mercado = equilibrio_mercado(precio_actual, oferta_actual, demanda_actual)\n",
        "print(estado_mercado)"
      ]
    },
    {
      "cell_type": "markdown",
      "metadata": {},
      "source": [
        "## **4. Estructuras de datos**\n"
      ]
    },
    {
      "cell_type": "markdown",
      "metadata": {
        "id": "wQvlEAgiCr4T"
      },
      "source": [
        "<img src=\"../assets/Script_Lab_1/importante.png\" alt=\"Importante\" width=\"200\">\n",
        "\n",
        "**Definición simple:** \n",
        "\n",
        "Las estructuras de datos son **cajas**, algunas más **complejas**, otras más sencillas y nos permiten almacenar cosas. ¿Por qué queremos almacenar cosas? Para poder utilizarlas en el **futuro**.\n",
        "\n",
        "**¿Para qué nos sirve el álgebra?:**\n",
        "\n",
        "<img src=\"../assets/Script_Lab_1/álgebra.png\" alt=\"Álgebra\" width=80%>\n"
      ]
    },
    {
      "cell_type": "markdown",
      "metadata": {},
      "source": [
        "#### **CRUD: Create, Read, Update, Delete**\n",
        "\n",
        "**CRUD** es un acrónimo que representa las cuatro operaciones básicas que realizamos sobre datos:\n",
        "\n",
        "1. **Create (Crear)**: Insertar nuevos datos.\n",
        "2. **Read (Leer)**: Acceder a los datos almacenados.\n",
        "3. **Update (Actualizar)**: Modificar datos existentes.\n",
        "4. **Delete (Eliminar)**: Borrar datos.\n",
        "\n",
        "Estas operaciones CRUD se aplican directamente sobre **estructuras de datos**, como listas, diccionarios o bases de datos. Para trabajar con estas operaciones, es fundamental aprender la **sintaxis** correspondiente en Python.\n",
        "\n",
        "<img src=\"../assets/Script_Lab_1/CRUD.webp\" alt=\"CRUD\" width=80%>"
      ]
    },
    {
      "cell_type": "markdown",
      "metadata": {},
      "source": [
        "#### **Estructuras en Python**\n",
        "\n",
        "En Python, se utilizan comúnmente las siguientes estructuras de datos:\n",
        "\n",
        "1. **Variables**:\n",
        "   - Almacenan un valor único.\n",
        "\n",
        "2. **Listas (Arrays o Vectores)**:\n",
        "   - Almacenan una colección ordenada de elementos, que pueden ser de tipos diferentes. Son dinámicas y permiten modificaciones.\n",
        "   - 🔑 Una matriz es una lista de listas.\n",
        "   \n",
        "\n",
        "3. **Diccionarios (Tablas Hash)**:\n",
        "   - Almacenan pares clave-valor, permitiendo un acceso rápido a los valores a través de sus claves. Detalles de tablas de hash [aquí](https://es.wikipedia.org/wiki/Tabla_hash).\n",
        "   - 🔑 Son muy utilizadas en librerías y son muy eficientes.\n",
        "\n",
        "4. **Tuplas**:\n",
        "   - Similares a las listas, pero son **inmutables** (no se pueden modificar una vez creadas). Ideales para datos que no cambian.\n",
        "\n",
        "5. **Conjuntos (`set`)**:\n",
        "   - Almacenan una colección de elementos **únicos** y no ordenados. Útiles para eliminar duplicados o realizar operaciones de teoría de conjuntos.\n",
        "   - 🔑 No deja repetir elementos."
      ]
    },
    {
      "cell_type": "code",
      "execution_count": 23,
      "metadata": {
        "colab": {
          "base_uri": "https://localhost:8080/"
        },
        "id": "63xPDigojOIl",
        "outputId": "d38452df-37b7-4ae3-d814-04101c340df1"
      },
      "outputs": [
        {
          "name": "stdout",
          "output_type": "stream",
          "text": [
            "Variable: 3\n",
            "Lista: [1, 2, 3, 4, 5, 6, 7, 8, 9, 10]\n",
            "Diccionario: {'pedro': [1, 2, 3, 4, 5, 6, 7, 8, 9, 10], 'juan': [1, 2, 3, 4, 5, 6, 7, 8, 9, 10], 'laura': [1, 2, 3, 4, 5, 6, 7, 8, 9, 10]}\n",
            "Tupla: (3, 5)\n",
            "Conjunto: {'orange', 'apple', 'pear', 'banana'}\n"
          ]
        }
      ],
      "source": [
        "# Estructuras de datos básicas en Python\n",
        "\n",
        "# Variable simple\n",
        "variable = 3\n",
        "\n",
        "# Lista (arreglo)\n",
        "arreglo = [1, 2, 3, 4, 5, 6, 7, 8, 9, 10]\n",
        "\n",
        "# Diccionario (Tabla de Hash)\n",
        "dictionary = {\n",
        "    \"pedro\": [1, 2, 3, 4, 5, 6, 7, 8, 9, 10],\n",
        "    \"juan\": [1, 2, 3, 4, 5, 6, 7, 8, 9, 10],\n",
        "    \"laura\": [1, 2, 3, 4, 5, 6, 7, 8, 9, 10]\n",
        "}\n",
        "\n",
        "# Tupla (inmutable)\n",
        "tupla = (3, 5)\n",
        "\n",
        "# Conjunto (set) - elimina duplicados automáticamente\n",
        "conjunto = {\"apple\", \"orange\", \"apple\", \"pear\", \"orange\", \"banana\"}\n",
        "\n",
        "# Impresión de los datos\n",
        "print(\"Variable:\", variable)\n",
        "print(\"Lista:\", arreglo)\n",
        "print(\"Diccionario:\", dictionary)\n",
        "print(\"Tupla:\", tupla)\n",
        "print(\"Conjunto:\", conjunto)"
      ]
    },
    {
      "cell_type": "code",
      "execution_count": 24,
      "metadata": {
        "colab": {
          "base_uri": "https://localhost:8080/"
        },
        "id": "lIcctl6FkxZF",
        "outputId": "ab48c670-9278-4ba0-9da5-545fc6c8aa86"
      },
      "outputs": [
        {
          "name": "stdout",
          "output_type": "stream",
          "text": [
            "Elemento en posición 7 (índice 6): 7\n",
            "Elemento en posición -2 (penúltimo): 9\n",
            "Arreglo después de agregar elemento: [1, 2, 3, 4, 5, 6, 7, 8, 9, 10, 9999]\n",
            "Arreglo después de eliminar el último elemento: [1, 2, 3, 4, 5, 6, 7, 8, 9, 10]\n"
          ]
        }
      ],
      "source": [
        "# Operaciones sobre un arreglo\n",
        "\n",
        "# Declaración inicial del arreglo\n",
        "arreglo = [1, 2, 3, 4, 5, 6, 7, 8, 9, 10]\n",
        "\n",
        "# Traer elementos de un arreglo\n",
        "elemento = arreglo[6]\n",
        "print(\"Elemento en posición 7 (índice 6):\", elemento)\n",
        "\n",
        "elemento_menos_dos = arreglo[-2]\n",
        "print(\"Elemento en posición -2 (penúltimo):\", elemento_menos_dos)\n",
        "\n",
        "# Agregar elementos a un arreglo\n",
        "arreglo.append(9999)\n",
        "print(\"Arreglo después de agregar elemento:\", arreglo)\n",
        "\n",
        "# Eliminar un elemento del arreglo por posición\n",
        "arreglo.pop(-1)  # -1 elimina el último elemento, en este caso 9999\n",
        "print(\"Arreglo después de eliminar el último elemento:\", arreglo)\n",
        "\n",
        "# Actualizar un elemento en una posición\n",
        "arreglo[-1] = 1000  # Cambia el último elemento (10) por 1000"
      ]
    },
    {
      "cell_type": "code",
      "execution_count": 26,
      "metadata": {
        "colab": {
          "base_uri": "https://localhost:8080/"
        },
        "id": "wzLvIGqAkz19",
        "outputId": "21d25250-86a3-426d-dd37-5eb70233d38d"
      },
      "outputs": [
        {
          "name": "stdout",
          "output_type": "stream",
          "text": [
            "El valor de Laura en la posición 10 es: 10\n",
            "Diccionario después de agregar a María: {'pedro': [1, 2, 3, 4, 5, 6, 7, 8, 9, 10], 'juan': [1, 2, 3, 4, 5, 6, 7, 8, 9, 10], 'laura': [1, 2, 3, 4, 5, 6, 7, 8, 9, 10], 'maria': [11, 12, 13]}\n",
            "Valor de Pedro: [1, 2, 3, 4, 5, 6, 7, 8, 9, 10]\n",
            "Diccionario después de actualizar a Juan: {'pedro': [1, 2, 3, 4, 5, 6, 7, 8, 9, 10], 'juan': [14, 15, 16], 'laura': [1, 2, 3, 4, 5, 6, 7, 8, 9, 10], 'maria': [11, 12, 13]}\n",
            "Diccionario después de eliminar a Laura: {'pedro': [1, 2, 3, 4, 5, 6, 7, 8, 9, 10], 'juan': [14, 15, 16], 'maria': [11, 12, 13]}\n"
          ]
        }
      ],
      "source": [
        "# Diccionario - Tabla de Hash:\n",
        "# Llave - Valor\n",
        "dictionary = {\n",
        "    \"pedro\": [1, 2, 3, 4, 5, 6, 7, 8, 9, 10],\n",
        "    \"juan\": [1, 2, 3, 4, 5, 6, 7, 8, 9, 10],\n",
        "    \"laura\": [1, 2, 3, 4, 5, 6, 7, 8, 9, 10]\n",
        "}\n",
        "\n",
        "# Acceso al valor asociado a la llave \"laura\"\n",
        "arreglo = dictionary[\"laura\"]\n",
        "print(\"El valor de Laura en la posición 10 es:\", arreglo[9])  # Recuerda que los índices empiezan en 0\n",
        "\n",
        "# Nota: Los diccionarios también soportan operaciones CRUD (Create, Read, Update, Delete)\n",
        "# Aquí un breve resumen de cómo funcionan:\n",
        "\n",
        "# 1. **Create (Crear):**\n",
        "dictionary[\"maria\"] = [11, 12, 13]  # Agregamos una nueva llave con su valor asociado\n",
        "print(\"Diccionario después de agregar a María:\", dictionary)\n",
        "\n",
        "# 2. **Read (Leer):**\n",
        "valor_pedro = dictionary[\"pedro\"]  # Accedemos al valor asociado a la llave \"pedro\"\n",
        "print(\"Valor de Pedro:\", valor_pedro)\n",
        "\n",
        "# 3. **Update (Actualizar):**\n",
        "dictionary[\"juan\"] = [14, 15, 16]  # Modificamos el valor asociado a la llave \"juan\"\n",
        "print(\"Diccionario después de actualizar a Juan:\", dictionary)\n",
        "\n",
        "# 4. **Delete (Eliminar):**\n",
        "del dictionary[\"laura\"]  # Eliminamos la llave \"laura\" del diccionario\n",
        "print(\"Diccionario después de eliminar a Laura:\", dictionary)\n",
        "\n",
        "# De igual forma que con los arreglos, los diccionarios también tienen operaciones CRUD.\n",
        "# CRUD: Create, Read, Update, Delete.\n",
        "\n",
        "# Para conocere estas operaciones en un diccionario puedes leer la documentación\n",
        "# o buscar por ChatGPT."
      ]
    },
    {
      "cell_type": "code",
      "execution_count": 27,
      "metadata": {
        "colab": {
          "base_uri": "https://localhost:8080/"
        },
        "id": "ZkMsvEEwww5b",
        "outputId": "6a20469f-3cb8-492b-96a6-32a180272d1b"
      },
      "outputs": [
        {
          "name": "stdout",
          "output_type": "stream",
          "text": [
            "Elemento en la posición 1 (índice 0): 3\n",
            "Elemento en la posición 2 (índice 1): laura\n",
            "Elemento en la última posición: 5454\n"
          ]
        }
      ],
      "source": [
        "# Tupla - No permite modificar sus elementos, es inmutable.\n",
        "\n",
        "# Declaración de una tupla\n",
        "tupla = (3, 'laura', 5454)\n",
        "\n",
        "# Acceso a elementos de la tupla\n",
        "print(\"Elemento en la posición 1 (índice 0):\", tupla[0])  # Salida: 3\n",
        "print(\"Elemento en la posición 2 (índice 1):\", tupla[1])  # Salida: laura\n",
        "print(\"Elemento en la última posición:\", tupla[-1])       # Salida: 5454\n",
        "\n",
        "# tupla[1]='Hola'\n",
        "# La línea de arriba, tira error: TypeError: 'tuple' object does not support item assignment.\n",
        "# Las tuplas a diferencia de las listas no dejan cambiar los elementos."
      ]
    },
    {
      "cell_type": "code",
      "execution_count": 28,
      "metadata": {
        "colab": {
          "base_uri": "https://localhost:8080/"
        },
        "id": "mOsWOS2Xx75Q",
        "outputId": "a52f8072-4be7-4f1b-80cf-ce2b5078de97"
      },
      "outputs": [
        {
          "name": "stdout",
          "output_type": "stream",
          "text": [
            "Conjunto (sin elementos repetidos): {'orange', 'apple', 'pear', 'banana'}\n",
            "El conjunto no cambia al agregar un elemento repetido: {'orange', 'apple', 'pear', 'banana'}\n",
            "El conjunto cambia al agregar un elemento nuevo: {'pear', 'pineapple', 'banana', 'orange', 'apple'}\n",
            "Conjunto después de agregar 'grape': {'pear', 'pineapple', 'banana', 'orange', 'apple', 'grape'}\n",
            "¿Está 'banana' en el conjunto? True\n",
            "Conjunto después de actualizar elementos: {'strawberry', 'pear', 'pineapple', 'banana', 'apple', 'grape'}\n",
            "Conjunto después de eliminar 'apple': {'strawberry', 'pear', 'pineapple', 'banana', 'grape'}\n"
          ]
        }
      ],
      "source": [
        "# Set (conjunto) - Colección de elementos únicos (sin repeticiones)\n",
        "\n",
        "# Declaración de un conjunto\n",
        "conjunto = {'apple', 'orange', 'apple', 'pear', 'orange', 'banana'}\n",
        "\n",
        "# Impresión inicial del conjunto (los elementos duplicados se eliminan automáticamente)\n",
        "print(\"Conjunto (sin elementos repetidos):\", conjunto)\n",
        "\n",
        "# Agregar un elemento ya existente\n",
        "conjunto.add('apple')  # 'apple' ya está en el conjunto, no se agrega de nuevo\n",
        "print(\"El conjunto no cambia al agregar un elemento repetido:\", conjunto)\n",
        "\n",
        "# Agregar un elemento nuevo\n",
        "conjunto.add('pineapple')  # 'pineapple' no estaba en el conjunto, se agrega\n",
        "print(\"El conjunto cambia al agregar un elemento nuevo:\", conjunto)\n",
        "\n",
        "# Nota: Los conjuntos (sets) también tienen operaciones CRUD (Create, Read, Update, Delete)\n",
        "\n",
        "# 1. **Create (Crear)**:\n",
        "conjunto.add('grape')  # Agregamos un nuevo elemento\n",
        "print(\"Conjunto después de agregar 'grape':\", conjunto)\n",
        "\n",
        "# 2. **Read (Leer)**:\n",
        "# Leer si un elemento está en el conjunto\n",
        "print(\"¿Está 'banana' en el conjunto?\", 'banana' in conjunto)  # Salida: True\n",
        "\n",
        "# 3. **Update (Actualizar)**:\n",
        "# En los sets no se actualizan elementos individuales, pero podemos eliminar y agregar elementos.\n",
        "conjunto.remove('orange')  # Eliminamos 'orange'\n",
        "conjunto.add('strawberry')  # Agregamos 'strawberry'\n",
        "print(\"Conjunto después de actualizar elementos:\", conjunto)\n",
        "\n",
        "# 4. **Delete (Eliminar)**:\n",
        "conjunto.discard('apple')  # Eliminamos 'apple' del conjunto\n",
        "print(\"Conjunto después de eliminar 'apple':\", conjunto)"
      ]
    },
    {
      "cell_type": "markdown",
      "metadata": {
        "id": "jHyanbJZv4zb"
      },
      "source": [
        "## 5. **Ciclos y complejidad**"
      ]
    },
    {
      "cell_type": "markdown",
      "metadata": {},
      "source": [
        "<img src=\"../assets/Script_Lab_1/importante.png\" alt=\"Importante\" width=\"200\">\n",
        "\n",
        "**¿Para qué nos sirven los ciclos?:**\n",
        "\n",
        "<img src=\"../assets/Script_Lab_1/loops.png\" alt=\"Importante\" width=50%>\n",
        "\n",
        "\n",
        "Con el fin de no tener que repetir muchas veces una tarea, podemos programar que se ejecute un número determinado de veces, o hasta que se cumpla una condición.\n",
        "\n",
        "Los ciclos (loops en inglés) nos permiten iterar (recorrer) sobre estructuras de datos y esto es algo muy importante para poder trabajar con nuestros datos almacenados.\n"
      ]
    },
    {
      "cell_type": "markdown",
      "metadata": {},
      "source": [
        "**Formas de hacer un ciclo**"
      ]
    },
    {
      "cell_type": "code",
      "execution_count": 29,
      "metadata": {
        "id": "_KUrTQQumJBM"
      },
      "outputs": [],
      "source": [
        "# Hay 3 formas básicas de hacer ciclos en Python.\n",
        "lista = [3, 6, 9, 12, 15, 18, 21, 24, 27, 30]"
      ]
    },
    {
      "cell_type": "code",
      "execution_count": 30,
      "metadata": {
        "colab": {
          "base_uri": "https://localhost:8080/"
        },
        "id": "RMs6c0y30758",
        "outputId": "6099c2d5-9d09-4248-e37d-e92418d6e1aa"
      },
      "outputs": [
        {
          "name": "stdout",
          "output_type": "stream",
          "text": [
            "Forma 1: Iterar directamente sobre los elementos\n",
            "3\n",
            "6\n",
            "9\n",
            "12\n",
            "15\n",
            "18\n",
            "21\n",
            "24\n",
            "27\n",
            "30\n"
          ]
        }
      ],
      "source": [
        "# ---- Forma 1: Iterar directamente sobre los elementos ----\n",
        "# Esta es la forma más sencilla. Recorre cada elemento que se encuentra en (in) una estructura de datos.\n",
        "\n",
        "print(\"Forma 1: Iterar directamente sobre los elementos\")\n",
        "for i in lista:\n",
        "    print(i)"
      ]
    },
    {
      "cell_type": "code",
      "execution_count": 31,
      "metadata": {
        "colab": {
          "base_uri": "https://localhost:8080/"
        },
        "id": "llviYauaLFK_",
        "outputId": "fc0f1a61-50c0-4468-ebb4-92a5d99096c7"
      },
      "outputs": [
        {
          "data": {
            "text/plain": [
              "range(0, 10)"
            ]
          },
          "execution_count": 31,
          "metadata": {},
          "output_type": "execute_result"
        }
      ],
      "source": [
        "range(0, len(lista))"
      ]
    },
    {
      "cell_type": "code",
      "execution_count": 32,
      "metadata": {
        "colab": {
          "base_uri": "https://localhost:8080/"
        },
        "id": "GCOKa0Gkm_9y",
        "outputId": "32882f5c-fb9b-49bd-d628-0c6c684ce8ef"
      },
      "outputs": [
        {
          "name": "stdout",
          "output_type": "stream",
          "text": [
            "\n",
            "Forma 2: Iterar utilizando índices\n",
            "3\n",
            "6\n",
            "9\n",
            "12\n",
            "15\n",
            "18\n",
            "21\n",
            "24\n",
            "27\n",
            "30\n"
          ]
        }
      ],
      "source": [
        "# ---- Forma 2: Iterar utilizando índices ----\n",
        "# Se itera sobre el tamaño de la lista utilizando índices. Aunque parece más complejo,\n",
        "# puede ser la única opción para ciertos problemas.\n",
        "\n",
        "print(\"\\nForma 2: Iterar utilizando índices\")\n",
        "\n",
        "# Ejemplo 1: Acceso a cada elemento mediante su posición\n",
        "for posicion in range(0, len(lista)):\n",
        "    print(lista[posicion])"
      ]
    },
    {
      "cell_type": "code",
      "execution_count": 33,
      "metadata": {
        "colab": {
          "base_uri": "https://localhost:8080/"
        },
        "id": "ewjwJEizE15z",
        "outputId": "3252bd2a-116c-4840-8cce-09b5a36e9ab1"
      },
      "outputs": [
        {
          "name": "stdout",
          "output_type": "stream",
          "text": [
            "\n",
            "Elementos en posiciones múltiplos de 2:\n",
            "3\n",
            "9\n",
            "15\n",
            "21\n",
            "27\n"
          ]
        }
      ],
      "source": [
        "# Ejemplo 2: Iterar sobre posiciones específicas (por ejemplo, múltiplos de 2)\n",
        "print(\"\\nElementos en posiciones múltiplos de 2:\")\n",
        "for posicion in range(0, len(lista)):\n",
        "    if posicion % 2 == 0:\n",
        "        print(lista[posicion])"
      ]
    },
    {
      "cell_type": "code",
      "execution_count": 55,
      "metadata": {
        "colab": {
          "base_uri": "https://localhost:8080/"
        },
        "id": "uJO9xY3jnosd",
        "outputId": "93dcc806-a4a4-4058-e38e-412cf7ba3b4d"
      },
      "outputs": [
        {
          "name": "stdout",
          "output_type": "stream",
          "text": [
            "\n",
            "Forma 3: Utilizar un ciclo while\n",
            "3\n",
            "6\n",
            "9\n",
            "12\n",
            "15\n",
            "18\n",
            "21\n",
            "24\n",
            "27\n",
            "30\n"
          ]
        }
      ],
      "source": [
        "# ---- Forma 3: Utilizar un ciclo `while` ----\n",
        "# El ciclo `while` es útil en casos donde no sabemos de antemano cuántas iteraciones necesitamos,\n",
        "# como en programación dinámica o listas encadenadas.\n",
        "\n",
        "print(\"\\nForma 3: Utilizar un ciclo while\")\n",
        "posicion = 0\n",
        "while posicion < len(lista):\n",
        "    print(lista[posicion])\n",
        "    posicion += 1"
      ]
    },
    {
      "cell_type": "code",
      "execution_count": 34,
      "metadata": {
        "colab": {
          "base_uri": "https://localhost:8080/"
        },
        "id": "tdQkLqPVoWWU",
        "outputId": "9706de4e-ed23-4b39-f355-43b61ee8916e"
      },
      "outputs": [
        {
          "name": "stdout",
          "output_type": "stream",
          "text": [
            "\n",
            "Ciclo sobre un diccionario (pares clave-valor):\n",
            "Llave: pedro, Valor: 1\n",
            "Llave: juan, Valor: 2\n",
            "Llave: laura, Valor: 3\n"
          ]
        }
      ],
      "source": [
        "# ---- Iterar sobre un diccionario ----\n",
        "# Cada estructura de datos tiene formas específicas de iteración. A continuación, un ejemplo con un diccionario.\n",
        "\n",
        "print(\"\\nCiclo sobre un diccionario (pares clave-valor):\")\n",
        "\n",
        "dictionary = {\n",
        "    \"pedro\": 1,\n",
        "    \"juan\": 2,\n",
        "    \"laura\": 3\n",
        "}  # Tabla de Hash\n",
        "\n",
        "# Iterar a través de pares clave-valor\n",
        "for llave, valor in dictionary.items():\n",
        "    print(f\"Llave: {llave}, Valor: {valor}\")"
      ]
    },
    {
      "cell_type": "markdown",
      "metadata": {
        "id": "0ltcfxyOGvnR"
      },
      "source": [
        "#### **Complejidad algorítmica**\n",
        "\n",
        "Dependiendo cuántas veces yo **itere** una estructura de datos (es decir, haga un ciclo), aumenta la complejidad algorítmica.\n",
        "\n",
        "**¿Por qué me interesa esto?**\n",
        "\n",
        "Porque si son muchos datos, mi programa puede que corra muy lento, o se demore tanto en correr que nunca obtendré la respuesta (demore años en correr y yo nunca lo sepa).\n",
        "\n",
        "La vida real maneja muchos datos y debo optimizar mis algoritmos.\n",
        "\n",
        "Para ello, se utiliza la notación [Big-O](https://www.freecodecamp.org/espanol/news/explicacion-de-la-notacion-big-o-con-ejemplo/) que nos permite conocer aproximadamente qué tan óptimo es nuestro código.\n",
        "\n",
        "<img src=\"https://miro.medium.com/v2/resize:fit:1400/1*5ZLci3SuR0zM_QlZOADv8Q.jpeg\" height=\"350\">\n",
        "\n",
        "Si una estructura de datos tiene tamaño *n* y la recorro 1 vez, entonces la complejidad será de $O(n)$.\n",
        "\n",
        "Se recomienda que nuestro código tenga complejidad inferior a $O(n)$, pero en la mayoría de casos podemos terminar con complejidad de $O(n^2)$, por ejemplo, para recorrer una matriz."
      ]
    },
    {
      "cell_type": "code",
      "execution_count": 35,
      "metadata": {
        "colab": {
          "base_uri": "https://localhost:8080/"
        },
        "id": "liBtvqq9ox2p",
        "outputId": "70fbfce4-f3f5-4676-d3a3-8e8a146af744"
      },
      "outputs": [
        {
          "name": "stdout",
          "output_type": "stream",
          "text": [
            "5000000050000000\n"
          ]
        }
      ],
      "source": [
        "# Complejidad algorítmica. ¿Qué tal difícil es? ¿Cuánto va a demorar?\n",
        "\n",
        "# Creamos una lista con número sentre el 1 y el 100.000.000\n",
        "# Juega con el tamaño y mira como cambia el tiempo de ejecución.\n",
        "lista_de_numeros = list(range(1, 100000001))\n",
        "\n",
        "# Iterar sobre una lista - O(n)\n",
        "suma = 0\n",
        "for i in lista_de_numeros:\n",
        "  suma += i\n",
        "\n",
        "print(suma)"
      ]
    },
    {
      "cell_type": "code",
      "execution_count": 36,
      "metadata": {
        "colab": {
          "base_uri": "https://localhost:8080/"
        },
        "id": "artlFTKtqJ-n",
        "outputId": "20c1a6be-3ef4-4e74-e6cf-a631082f7a8b"
      },
      "outputs": [
        {
          "name": "stdout",
          "output_type": "stream",
          "text": [
            "50000941.042976655\n"
          ]
        }
      ],
      "source": [
        "import numpy as np\n",
        "\n",
        "# Generar una matriz de 10000x10000 con números aleatorios entre 0 y 1.\n",
        "matriz = np.random.rand(10000, 10000)\n",
        "matriz\n",
        "\n",
        "# Note que la matriz tiene tamaño n x n = 10.000 x 10.000 = 100.000.000 de datos.\n",
        "\n",
        "# Iterar sobre una matriz - O(n^2)\n",
        "suma = 0\n",
        "for fila in matriz:\n",
        "    for valor in fila:\n",
        "        # Aquí puedes realizar alguna operación con cada valor\n",
        "        suma += valor\n",
        "\n",
        "print(suma)"
      ]
    },
    {
      "cell_type": "code",
      "execution_count": 37,
      "metadata": {
        "id": "_llhqI_Zrf6T"
      },
      "outputs": [],
      "source": [
        "# Traer una llave de un diccionario - Tabla de Hash\n",
        "import random\n",
        "\n",
        "# Definir el número de elementos (ajusta según sea necesario)\n",
        "num_elementos = 100000000  # 10 millones de elementos\n",
        "\n",
        "# Inicializa un diccionario vacío\n",
        "mi_diccionario = {}\n",
        "\n",
        "# Genera un diccionario con llaves y valores aleatorios (evitando valores None)\n",
        "for llave in range(num_elementos):\n",
        "    mi_diccionario[str(llave)] = random.random()"
      ]
    },
    {
      "cell_type": "code",
      "execution_count": 39,
      "metadata": {
        "id": "PdZmQ2SYNeHV"
      },
      "outputs": [
        {
          "data": {
            "text/plain": [
              "100000000"
            ]
          },
          "execution_count": 39,
          "metadata": {},
          "output_type": "execute_result"
        }
      ],
      "source": [
        "len(mi_diccionario)"
      ]
    },
    {
      "cell_type": "code",
      "execution_count": 40,
      "metadata": {
        "colab": {
          "base_uri": "https://localhost:8080/"
        },
        "id": "pSBB-cZ1M8GL",
        "outputId": "50ab6183-1c89-402d-ba3c-9c4fed69aecd"
      },
      "outputs": [
        {
          "name": "stdout",
          "output_type": "stream",
          "text": [
            "Llave aleatoria: 42073928\n",
            "Valor correspondiente: 0.8048934161615855\n"
          ]
        }
      ],
      "source": [
        "# Traer un valor de un diccionario tiene ¡Complejidad constante! - O(1)\n",
        "# Traer un valor de un arreglo (lista o vector), también tiene complejidad constante - O(1)\n",
        "\n",
        "# Obtener un valor aleatorio del diccionario\n",
        "llave_aleatoria = random.choice(list(mi_diccionario.keys()))  # Escoge una llave aleatoria\n",
        "valor_aleatorio = mi_diccionario[llave_aleatoria]  # Obtiene el valor correspondiente a la llave aleatoria\n",
        "\n",
        "# Verificar el resultado\n",
        "print(f\"Llave aleatoria: {llave_aleatoria}\")\n",
        "print(f\"Valor correspondiente: {valor_aleatorio}\")"
      ]
    },
    {
      "cell_type": "markdown",
      "metadata": {},
      "source": [
        "#### **Beneficio de GPUs y TPUs frente a CPUs al recorrer estructuras de datos**\n",
        "<img src=\"../assets/Script_Lab_1/CPU vs GPU vs TPU.jpg\" alt=\"CPU vs GPU vs TPU\" width=50%>\n",
        "\n",
        "Las GPUs y TPUs son significativamente más eficientes que las CPUs al recorrer estructuras de datos, especialmente cuando se trata de grandes volúmenes de información. Esto se debe a sus arquitecturas diseñadas para el **procesamiento paralelo masivo** y su capacidad para manejar cálculos repetitivos de manera simultánea. Aquí se explica por qué:\n",
        "\n",
        "**1. Procesamiento Paralelo Masivo**\n",
        "\n",
        "- **CPU**:\n",
        "  - Diseñada para tareas secuenciales.\n",
        "  - Tiene un número limitado de núcleos (4 a 16 típicamente) optimizados para ejecutar pocas tareas complejas a la vez.\n",
        "  - Cuando se recorren grandes estructuras de datos, como listas o matrices, la CPU procesa un elemento a la vez (procesamiento **escalar**).\n",
        "\n",
        "- **GPU**:\n",
        "  - Posee miles de núcleos más simples, diseñados para ejecutar **múltiples operaciones en paralelo**.\n",
        "  - Esto la hace ideal para recorrer matrices o grandes DataFrames en Python, ya que puede procesar bloques completos de datos simultáneamente (procesamiento **vectorial**).\n",
        "  \n",
        "- **TPU**:\n",
        "  - Optimizada para operaciones de **tensores** (estructuras multidimensionales).\n",
        "  - Es capaz de manejar modelos que requieren cálculos masivos en redes neuronales de aprendizaje profundo.\n",
        "  - Su diseño permite recorrer y operar sobre estructuras complejas, como matrices de alta dimensión, de forma extremadamente rápida (procesamiento de **tensores**).\n",
        "\n",
        "**2. Arquitectura de Memoria**\n",
        "\n",
        "La eficiencia de GPUs y TPUs también se debe a su arquitectura de memoria:\n",
        "\n",
        "- **CPU**: \n",
        "  - Tiene múltiples niveles de caché (L1, L2, L3) y la gestión de la memoria es implícita. Esto puede ser una limitación para manejar datos grandes que no caben en la caché.\n",
        "  \n",
        "- **GPU**: \n",
        "  - Usa un modelo de memoria **mixto**, donde la memoria compartida entre núcleos permite manejar datos en paralelo con alta velocidad.\n",
        "  \n",
        "- **TPU**: \n",
        "  - Posee una memoria especializada (buffers de activación y registros de acumulación) que está explícitamente gestionada para maximizar el rendimiento en tareas de aprendizaje automático.\n",
        "\n",
        "**3. Asociación con la Complejidad**\n",
        "\n",
        "El uso de GPUs y TPUs afecta directamente la complejidad computacional:\n",
        "\n",
        "- **CPU**:\n",
        "  - Para recorrer una estructura de datos de tamaño `n`, una CPU realiza `O(n)` operaciones secuenciales.\n",
        "  \n",
        "- **GPU/TPU**:\n",
        "  - Debido al paralelismo, las GPUs y TPUs dividen las tareas entre múltiples núcleos, reduciendo el tiempo efectivo. Aunque la complejidad teórica sigue siendo `O(n)`, el paralelismo reduce el **tiempo constante** (`k`) asociado a cada operación.\n",
        "  - Esto es especialmente notable en algoritmos que realizan operaciones en matrices, como el producto matricial, donde el tiempo puede reducirse de `O(n^3)` a **`O(n^2)` en términos prácticos**, gracias al procesamiento paralelo.\n",
        "\n",
        "\n",
        "### **Resumen**\n",
        "| **Característica**          | **CPU**             | **GPU**                | **TPU**                     |\n",
        "|------------------------------|---------------------|------------------------|-----------------------------|\n",
        "| **Procesamiento**            | Secuencial (escalar)| Paralelo (vectorial)    | Paralelo avanzado (tensores) |\n",
        "| **Núcleos**                  | Pocos y poderosos  | Miles y simples        | Optimizados para tensores   |\n",
        "| **Ideal para**               | Tareas generales   | Operaciones paralelas  | Machine Learning            |\n",
        "| **Complejidad práctica**     | O(n) (secuencial)  | O(n) (paralelo)        | O(n) (paralelo tensorial)   |\n",
        "\n",
        "\n",
        "**Conclusión**\n",
        "\n",
        "Las GPUs y TPUs son más rápidas que las CPUs al recorrer estructuras de datos porque pueden procesar múltiples elementos simultáneamente, gracias a su arquitectura paralela. Esto reduce significativamente el tiempo constante de las operaciones, haciendo que tareas como entrenar modelos de machine learning o procesar matrices gigantes sean mucho más eficientes."
      ]
    },
    {
      "cell_type": "markdown",
      "metadata": {
        "id": "jEfvxOfKAiVk"
      },
      "source": [
        "#### **¡Un ejemplo importante!**\n",
        "\n",
        "En el siguiente ejemplo, vamos a buscar un número en un arreglo.\n",
        "\n",
        "Implementaremos dos algoritmos: uno que busca número a número y otro que lo encuentra por búsqueda binaria.\n",
        "\n",
        "Veremos cómo optimizar nuestro código y/o utilizar los mejores algoritmos, hace que los tiempos de ejecución se reduzcan drásticamente."
      ]
    },
    {
      "cell_type": "code",
      "execution_count": 41,
      "metadata": {
        "id": "dFxurZfFnuJE"
      },
      "outputs": [],
      "source": [
        "# Crear un arreglo con números hasta 100 millones.\n",
        "arreglo = range(1, 100000001)\n",
        "\n",
        "# Buscar el número 667,000\n",
        "numero_buscado = 66700000"
      ]
    },
    {
      "cell_type": "code",
      "execution_count": 42,
      "metadata": {
        "colab": {
          "base_uri": "https://localhost:8080/"
        },
        "id": "FXAwlJ7slQj3",
        "outputId": "d7d3b850-3101-4d4b-8483-c7a27819b4b4"
      },
      "outputs": [
        {
          "name": "stdout",
          "output_type": "stream",
          "text": [
            "¡Encontrado! El número 66700000 fue encontrado.\n"
          ]
        }
      ],
      "source": [
        "# Complejidad: O(n)\n",
        "# Iterar a través del arreglo y comparar con cada número, uno por uno.\n",
        "for numero in arreglo:\n",
        "    if numero == numero_buscado: # Debe recorrer todo el arreglo hasta encontrarlo.\n",
        "        print(f\"¡Encontrado! El número {numero_buscado} fue encontrado.\")\n",
        "        break"
      ]
    },
    {
      "cell_type": "code",
      "execution_count": 43,
      "metadata": {
        "colab": {
          "base_uri": "https://localhost:8080/"
        },
        "id": "-V6FHi09mBx3",
        "outputId": "c84242af-f5da-47f2-be99-2d07614529c5"
      },
      "outputs": [
        {
          "name": "stdout",
          "output_type": "stream",
          "text": [
            "¡Encontrado! El número 66700000 está en la posición 66699999.\n"
          ]
        }
      ],
      "source": [
        "# Complejidad: log_2(n)\n",
        "# Algoritmo - Búsqueda binaria\n",
        "# Todo algoritmo que tenga complejidad log_2(n) realiza particiones del problema en mitades.\n",
        "# Explicación: https://es.khanacademy.org/computing/computer-science/algorithms/binary-search/a/binary-search\n",
        "def busqueda_binaria(lista, numero_buscado):\n",
        "    izquierda = 0\n",
        "    derecha = len(lista) - 1\n",
        "\n",
        "    while izquierda <= derecha:\n",
        "        medio = (izquierda + derecha) // 2\n",
        "        numero_medio = lista[medio]\n",
        "\n",
        "        if numero_medio == numero_buscado:\n",
        "            return medio\n",
        "        elif numero_medio < numero_buscado:\n",
        "            izquierda = medio + 1\n",
        "        else:\n",
        "            derecha = medio - 1\n",
        "\n",
        "    return -1  # Si no se encuentra el número, devolvemos -1\n",
        "\n",
        "# Llamamos a la función de búsqueda binaria\n",
        "resultado = busqueda_binaria(arreglo, numero_buscado)\n",
        "\n",
        "if resultado != -1:\n",
        "    print(f\"¡Encontrado! El número {numero_buscado} está en la posición {resultado}.\")\n",
        "else:\n",
        "    print(f\"No se encontró el número {numero_buscado}.\")\n"
      ]
    },
    {
      "cell_type": "markdown",
      "metadata": {
        "id": "_Wrx23UvBYXa"
      },
      "source": [
        "Compara el tiempo de ejecución de ambos algoritmos...\n",
        "\n",
        "¿Cuál fue mucho más rápido?\n",
        "\n",
        "**Respuesta:** Búsqueda binaria."
      ]
    },
    {
      "cell_type": "markdown",
      "metadata": {},
      "source": [
        "## 6. Librerías"
      ]
    },
    {
      "cell_type": "markdown",
      "metadata": {},
      "source": [
        "En Python, las **librerías** son herramientas fundamentales que facilitan la programación al ofrecer funcionalidades ya desarrolladas, permitiendo ahorrar tiempo y esfuerzo. Estas librerías están compuestas por **módulos** y **paquetes**. A continuación, se explica cada uno de estos conceptos.\n",
        "\n",
        "- **Modulo**: archivo con clases y funciones.\n",
        "- **Paquete**: conjunto de módulos relacionados que proveen unafuncionalidad (estructura de directorio).\n",
        "- **Librería:** gran conjunto de módulos con múltiples funcionalidades."
      ]
    },
    {
      "cell_type": "code",
      "execution_count": 44,
      "metadata": {},
      "outputs": [],
      "source": [
        "# Importar un módulo estándar\n",
        "import math"
      ]
    },
    {
      "cell_type": "code",
      "execution_count": 45,
      "metadata": {},
      "outputs": [],
      "source": [
        "# Importar un módulo dentro de un paquete\n",
        "from numpy import random"
      ]
    },
    {
      "cell_type": "code",
      "execution_count": 46,
      "metadata": {},
      "outputs": [],
      "source": [
        "# Importar una librería completa\n",
        "import pandas as pd"
      ]
    },
    {
      "cell_type": "markdown",
      "metadata": {},
      "source": [
        "#### **PyPI - Python Package Index**\n",
        "\n",
        "Es un repositorio oficial de paquetes y librerías para Python. Es una herramienta fundamental para los desarrolladores, ya que permite buscar, descargar e instalar paquetes directamente desde la línea de comandos utilizando herramientas como `pip`."
      ]
    },
    {
      "cell_type": "code",
      "execution_count": null,
      "metadata": {},
      "outputs": [],
      "source": [
        "%%capture # Ocultar la salida\n",
        "!pip install nombre_del_paquete_1 nombre_del_paquete_2"
      ]
    },
    {
      "cell_type": "markdown",
      "metadata": {},
      "source": [
        "#### **Pandas y Numpy**\n",
        "\n",
        "Pandas y Numpy son el **corazón de Python**. Son librerías que nos permiten trabajar con los datos de manera eficiente, y nos facilitan la vida.\n",
        "Nos permiten manipular **DataFrames**, que son tablas en Python (una aproximación de Excel en Python).\n",
        "En el mercado laboral es lo que más se utiliza en programación.\n"
      ]
    },
    {
      "cell_type": "markdown",
      "metadata": {},
      "source": [
        "- **Pandas**:\n",
        "  - Es una librería que proporciona estructuras de datos como **DataFrames** y **Series**, diseñadas para trabajar con datos tabulares y temporales.\n",
        "  - Los **DataFrames** son como tablas en Python, similares a las hojas de cálculo de Excel, pero mucho más poderosas y rápidas.\n",
        "  - Con Pandas puedes:\n",
        "    - Cargar datos desde múltiples fuentes (archivos CSV, Excel, bases de datos, etc.).\n",
        "    - Limpiar y transformar datos con facilidad.\n",
        "    - Realizar análisis exploratorios de datos (EDA)."
      ]
    },
    {
      "cell_type": "code",
      "execution_count": 49,
      "metadata": {},
      "outputs": [
        {
          "data": {
            "text/html": [
              "<div>\n",
              "<style scoped>\n",
              "    .dataframe tbody tr th:only-of-type {\n",
              "        vertical-align: middle;\n",
              "    }\n",
              "\n",
              "    .dataframe tbody tr th {\n",
              "        vertical-align: top;\n",
              "    }\n",
              "\n",
              "    .dataframe thead th {\n",
              "        text-align: right;\n",
              "    }\n",
              "</style>\n",
              "<table border=\"1\" class=\"dataframe\">\n",
              "  <thead>\n",
              "    <tr style=\"text-align: right;\">\n",
              "      <th></th>\n",
              "      <th>Nombre</th>\n",
              "      <th>Edad</th>\n",
              "    </tr>\n",
              "  </thead>\n",
              "  <tbody>\n",
              "    <tr>\n",
              "      <th>0</th>\n",
              "      <td>Ana</td>\n",
              "      <td>23</td>\n",
              "    </tr>\n",
              "    <tr>\n",
              "      <th>1</th>\n",
              "      <td>Luis</td>\n",
              "      <td>34</td>\n",
              "    </tr>\n",
              "    <tr>\n",
              "      <th>2</th>\n",
              "      <td>Pedro</td>\n",
              "      <td>45</td>\n",
              "    </tr>\n",
              "  </tbody>\n",
              "</table>\n",
              "</div>"
            ],
            "text/plain": [
              "  Nombre  Edad\n",
              "0    Ana    23\n",
              "1   Luis    34\n",
              "2  Pedro    45"
            ]
          },
          "execution_count": 49,
          "metadata": {},
          "output_type": "execute_result"
        }
      ],
      "source": [
        "import pandas as pd\n",
        "\n",
        "# Crear un DataFrame\n",
        "data = {\"Nombre\": [\"Ana\", \"Luis\", \"Pedro\"], \"Edad\": [23, 34, 45]}\n",
        "df = pd.DataFrame(data)\n",
        "\n",
        "df"
      ]
    },
    {
      "cell_type": "markdown",
      "metadata": {},
      "source": [
        "- **Numpy**:\n",
        "  - Es una librería diseñada para trabajar con arreglos y matrices multidimensionales, ofreciendo operaciones matemáticas y estadísticas eficientes.\n",
        "  - Es la base sobre la cual se construyen otras librerías como Pandas, debido a su alto rendimiento en cálculos numéricos.\n",
        "  - Con Numpy puedes:\n",
        "    - Crear y manipular arreglos n-dimensionales.\n",
        "    - Realizar operaciones matemáticas avanzadas.\n",
        "    - Procesar grandes volúmenes de datos de forma eficiente."
      ]
    },
    {
      "cell_type": "code",
      "execution_count": 51,
      "metadata": {},
      "outputs": [
        {
          "name": "stdout",
          "output_type": "stream",
          "text": [
            "[1 2 3 4 5]\n"
          ]
        }
      ],
      "source": [
        "import numpy as np\n",
        "\n",
        "# Crear un arreglo\n",
        "arreglo = np.array([1, 2, 3, 4, 5])\n",
        "print(arreglo)\n"
      ]
    },
    {
      "cell_type": "markdown",
      "metadata": {},
      "source": [
        "**¿Por qué son importantes?**\n",
        "\n",
        "- **Eficiencia**: Ambas librerías están optimizadas para manejar grandes cantidades de datos rápidamente.\n",
        "- **Versatilidad**: Son utilizadas en tareas como análisis de datos, machine learning y visualización.\n",
        "- **Relevancia en el mercado laboral**: En el mercado laboral, Pandas y Numpy son de las herramientas más solicitadas para programación y análisis de datos. Si aspiras a trabajar en roles relacionados con datos, **dominar estas librerías es imprescindible**.\n"
      ]
    },
    {
      "cell_type": "markdown",
      "metadata": {},
      "source": [
        "En el próximo laboratorio veremos algunas funciones de Pandas y Numpy."
      ]
    }
  ],
  "metadata": {
    "colab": {
      "provenance": []
    },
    "kernelspec": {
      "display_name": "Python 3",
      "name": "python3"
    },
    "language_info": {
      "codemirror_mode": {
        "name": "ipython",
        "version": 3
      },
      "file_extension": ".py",
      "mimetype": "text/x-python",
      "name": "python",
      "nbconvert_exporter": "python",
      "pygments_lexer": "ipython3",
      "version": "3.11.4"
    }
  },
  "nbformat": 4,
  "nbformat_minor": 0
}
